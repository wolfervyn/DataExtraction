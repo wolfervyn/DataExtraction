{
 "cells": [
  {
   "cell_type": "code",
   "execution_count": null,
   "source": [
    "import pandas as pd\r\n",
    "import numpy as np\r\n",
    "import json\r\n",
    "import time\r\n",
    "import requests\r\n",
    "\r\n",
    "import threading\r\n"
   ],
   "outputs": [],
   "metadata": {}
  },
  {
   "cell_type": "code",
   "execution_count": null,
   "source": [
    "def get_category(query_param,base_url='https://www.googleapis.com/books/v1/volumes?q=',fields='&fields=items(volumeInfo(categories))'):\r\n",
    "    cat=[]\r\n",
    "    req=requests.get(base_url+query_param+fields)\r\n",
    "    print(req.status_code)\r\n",
    "    if req.status_code==200:\r\n",
    "        result=json.loads(req.text)\r\n",
    "        try:\r\n",
    "            cat=result['items'][0]['volumeInfo']['categories']\r\n",
    "        except KeyError:\r\n",
    "            return cat\r\n",
    "    elif req.status_code==503:\r\n",
    "        time.sleep(3)\r\n",
    "    return cat"
   ],
   "outputs": [],
   "metadata": {}
  },
  {
   "cell_type": "code",
   "execution_count": null,
   "source": [
    "def write_dict_to_csv(filename, cat_dict, orient=\"index\", index=False):\r\n",
    "    df = pd.DataFrame.from_dict(cat_dict, orient=orient, columns=[\"Genre\"])\r\n",
    "    df.to_csv(filename, index=index, index_label=\"ISBN\")\r\n"
   ],
   "outputs": [],
   "metadata": {}
  },
  {
   "cell_type": "code",
   "execution_count": null,
   "source": [
    "exitFlag = 0\r\n",
    "class myThread (threading.Thread):\r\n",
    "   def __init__(self, threadID, r, steps):\r\n",
    "      threading.Thread.__init__(self)\r\n",
    "      self.threadID = threadID\r\n",
    "      self.r = r\r\n",
    "      self.steps = steps\r\n",
    "\r\n",
    "   def run(self):\r\n",
    "      print(\"Starting \" + str(self.r )+ \"to\" + str(self.r+steps))\r\n",
    "      get_categories(self.r,  self.steps)\r\n",
    "      print(\"Exiting \" + str(self.r) + \"to\" + str(self.r+steps))\r\n"
   ],
   "outputs": [],
   "metadata": {}
  },
  {
   "cell_type": "code",
   "execution_count": null,
   "source": [
    "common_data=pd.read_csv('books_common_data.csv')\r\n",
    "unique_isbns=list(set(common_data.ISBN))\r\n"
   ],
   "outputs": [],
   "metadata": {}
  },
  {
   "cell_type": "code",
   "execution_count": null,
   "source": [
    "extracted_data = pd.read_csv('first_7k_books.csv')\r\n",
    "extracted_ISBNs = list(set(extracted_data.ISBN))\r\n"
   ],
   "outputs": [],
   "metadata": {}
  },
  {
   "cell_type": "code",
   "execution_count": null,
   "source": [
    "non_extracted_ISBNs = list(set(unique_isbns) - set(extracted_ISBNs))"
   ],
   "outputs": [],
   "metadata": {}
  },
  {
   "cell_type": "markdown",
   "source": [
    "There are around 24684 books"
   ],
   "metadata": {}
  },
  {
   "cell_type": "code",
   "execution_count": null,
   "source": [
    "def get_categories(start, steps):\r\n",
    "    cat_dict={}\r\n",
    "    for i in range(start, start+steps):\r\n",
    "        print(i)\r\n",
    "        try:\r\n",
    "            cat_dict[non_extracted_ISBNs[i]]=get_category(base_url='https://www.googleapis.com/books/v1/volumes?q=',query_param=non_extracted_ISBNs[i],fields='&fields=items(volumeInfo(categories))')\r\n",
    "        except:\r\n",
    "            time.sleep(3)\r\n",
    "            try:\r\n",
    "                cat_dict[non_extracted_ISBNs[i]]=get_category(base_url='https://www.googleapis.com/books/v1/volumes?q=',query_param=non_extracted_ISBNs[i],fields='&fields=items(volumeInfo(categories))')\r\n",
    "            except:\r\n",
    "                continue\r\n",
    "    write_dict_to_csv('Genres_'+str(start)+'_' +\r\n",
    "                      str(start+steps), cat_dict, index=True)\r\n",
    "    cat_dict={}\r\n"
   ],
   "outputs": [],
   "metadata": {}
  },
  {
   "cell_type": "code",
   "execution_count": null,
   "source": [
    "cat_dict={}\r\n",
    "steps= 5\r\n",
    "ranges = [0, 10]  # AMEL\r\n",
    "# ranges = [] 5000 -10000 # UKESH\r\n",
    "# ranges = []  10000 - 15000 # KAMAL\r\n",
    "# ranges = [] # SRIKAANTH\r\n",
    "for r in range(ranges[0], ranges[1], steps):\r\n",
    "    thread = myThread(r, r, steps)\r\n",
    "    thread.start()\r\n"
   ],
   "outputs": [],
   "metadata": {}
  }
 ],
 "metadata": {
  "orig_nbformat": 4,
  "language_info": {
   "name": "python",
   "version": "3.9.2",
   "mimetype": "text/x-python",
   "codemirror_mode": {
    "name": "ipython",
    "version": 3
   },
   "pygments_lexer": "ipython3",
   "nbconvert_exporter": "python",
   "file_extension": ".py"
  },
  "kernelspec": {
   "name": "python3",
   "display_name": "Python 3.9.2 64-bit"
  },
  "interpreter": {
   "hash": "b214ac332dc39ea7ae4ac2bb55860be10914c29acaa2d240798368dc7a6f5bec"
  }
 },
 "nbformat": 4,
 "nbformat_minor": 2
}
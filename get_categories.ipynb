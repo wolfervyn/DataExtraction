{
 "cells": [
  {
   "cell_type": "code",
   "execution_count": 68,
   "source": [
    "import pandas as pd\r\n",
    "import numpy as np\r\n",
    "import json\r\n",
    "import time\r\n",
    "import requests"
   ],
   "outputs": [],
   "metadata": {}
  },
  {
   "cell_type": "code",
   "execution_count": 69,
   "source": [
    "def get_category(query_param,base_url='https://www.googleapis.com/books/v1/volumes?q=',fields='&fields=items(volumeInfo(categories))'):\r\n",
    "    cat=[]\r\n",
    "    req=requests.get(base_url+query_param+fields)\r\n",
    "    print(req.status_code)\r\n",
    "    if req.status_code==200:\r\n",
    "        result=json.loads(req.text)\r\n",
    "        try:\r\n",
    "            cat=result['items'][0]['volumeInfo']['categories']\r\n",
    "        except KeyError:\r\n",
    "            return cat\r\n",
    "    elif req.status_code==503:\r\n",
    "        time.sleep(3)\r\n",
    "    return cat"
   ],
   "outputs": [],
   "metadata": {}
  },
  {
   "cell_type": "code",
   "execution_count": 70,
   "source": [
    "def write_dict_to_csv(filename, dict, orient=\"index\", index=False):\r\n",
    "    df = pd.DataFrame.from_dict(cat_dict, orient=orient, columns=[\"Genre\"])\r\n",
    "    df.to_csv(filename, index=index, index_label=\"ISBN\")"
   ],
   "outputs": [],
   "metadata": {}
  },
  {
   "cell_type": "code",
   "execution_count": 71,
   "source": [
    "common_data=pd.read_csv('books_common_data.csv')\r\n",
    "unique_isbns=list(set(common_data.ISBN))\r\n"
   ],
   "outputs": [],
   "metadata": {}
  },
  {
   "cell_type": "code",
   "execution_count": 72,
   "source": [
    "extracted_data = pd.read_csv('first_7k_books.csv')\r\n",
    "extracted_ISBNs = list(set(extracted_data.ISBN))\r\n"
   ],
   "outputs": [],
   "metadata": {}
  },
  {
   "cell_type": "code",
   "execution_count": 73,
   "source": [
    "non_extracted_ISBNs = list(set(unique_isbns) - set(extracted_ISBNs))"
   ],
   "outputs": [],
   "metadata": {}
  },
  {
   "cell_type": "markdown",
   "source": [
    "There are around 24684 books"
   ],
   "metadata": {}
  },
  {
   "cell_type": "code",
   "execution_count": 76,
   "source": [
    "cat_dict={}\r\n",
    "steps= 500\r\n",
    "ranges = [0, 5000]  # AMEL\r\n",
    "# ranges = [] 5000 -10000 # UKESH\r\n",
    "# ranges = []  10000 - 15000 # KAMAL\r\n",
    "# ranges = [] # SRIKAANTH\r\n",
    "for r in range(ranges[0], ranges[1], steps):\r\n",
    "    for i in range(r, r+steps):\r\n",
    "        print(i)\r\n",
    "        try:\r\n",
    "            cat_dict[non_extracted_ISBNs[i]]=get_category(base_url='https://www.googleapis.com/books/v1/volumes?q=',query_param=non_extracted_ISBNs[i],fields='&fields=items(volumeInfo(categories))')\r\n",
    "        except:\r\n",
    "            time.sleep(3)\r\n",
    "            try:\r\n",
    "                cat_dict[non_extracted_ISBNs[i]]=get_category(base_url='https://www.googleapis.com/books/v1/volumes?q=',query_param=non_extracted_ISBNs[i],fields='&fields=items(volumeInfo(categories))')\r\n",
    "            except:\r\n",
    "                continue\r\n",
    "    write_dict_to_csv('Genres_'+str(r)+'_'+str(r+steps), cat_dict, index=True)\r\n",
    "    cat_dict={}\r\n"
   ],
   "outputs": [
    {
     "output_type": "stream",
     "name": "stdout",
     "text": [
      "0\n",
      "200\n",
      "1\n",
      "200\n",
      "2\n",
      "200\n",
      "3\n",
      "200\n",
      "4\n",
      "200\n",
      "5\n",
      "200\n",
      "6\n",
      "200\n",
      "7\n",
      "200\n",
      "8\n",
      "200\n",
      "9\n",
      "200\n"
     ]
    }
   ],
   "metadata": {}
  }
 ],
 "metadata": {
  "orig_nbformat": 4,
  "language_info": {
   "name": "python",
   "version": "3.9.2",
   "mimetype": "text/x-python",
   "codemirror_mode": {
    "name": "ipython",
    "version": 3
   },
   "pygments_lexer": "ipython3",
   "nbconvert_exporter": "python",
   "file_extension": ".py"
  },
  "kernelspec": {
   "name": "python3",
   "display_name": "Python 3.9.2 64-bit"
  },
  "interpreter": {
   "hash": "b214ac332dc39ea7ae4ac2bb55860be10914c29acaa2d240798368dc7a6f5bec"
  }
 },
 "nbformat": 4,
 "nbformat_minor": 2
}
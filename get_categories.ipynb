{
 "cells": [
  {
   "cell_type": "code",
   "execution_count": 1,
   "source": [
    "import pandas as pd\r\n",
    "import numpy as np\r\n",
    "import json\r\n",
    "import time\r\n",
    "import requests"
   ],
   "outputs": [],
   "metadata": {}
  },
  {
   "cell_type": "code",
   "execution_count": 2,
   "source": [
    "def get_category(query_param,base_url='https://www.googleapis.com/books/v1/volumes?q=',fields='&fields=items(volumeInfo(categories))'):\r\n",
    "    cat=[]\r\n",
    "    req=requests.get(base_url+query_param+fields)\r\n",
    "    print(req.status_code)\r\n",
    "    if req.status_code==200:\r\n",
    "        result=json.loads(req.text)\r\n",
    "        try:\r\n",
    "            cat=result['items'][0]['volumeInfo']['categories']\r\n",
    "        except KeyError:\r\n",
    "            return cat\r\n",
    "    elif req.status_code==503:\r\n",
    "        time.sleep(3)\r\n",
    "    return cat"
   ],
   "outputs": [],
   "metadata": {}
  },
  {
   "cell_type": "code",
   "execution_count": 3,
   "source": [
    "common_data=pd.read_csv('books_common_data.csv')\r\n",
    "unique_isbns=list(set(common_data.ISBN))\r\n"
   ],
   "outputs": [],
   "metadata": {}
  },
  {
   "cell_type": "code",
   "execution_count": 13,
   "source": [
    "extracted_data = pd.read_csv('first_7k_books.csv')\r\n",
    "extracted_ISBNs = list(set(extracted_data.ISBN))\r\n"
   ],
   "outputs": [],
   "metadata": {}
  },
  {
   "cell_type": "code",
   "execution_count": 19,
   "source": [
    "non_extracted_ISBNs = set(unique_isbns) - set(extracted_data.ISBN)\r\n",
    "len(non_extracted_ISBNs)"
   ],
   "outputs": [
    {
     "output_type": "execute_result",
     "data": {
      "text/plain": [
       "17385"
      ]
     },
     "metadata": {},
     "execution_count": 19
    }
   ],
   "metadata": {}
  },
  {
   "cell_type": "markdown",
   "source": [
    "There are around 24684 books"
   ],
   "metadata": {}
  },
  {
   "cell_type": "code",
   "execution_count": 11,
   "source": [
    "cat_dict={}\r\n",
    "for i in range(0,1000):\r\n",
    "    print(i)\r\n",
    "    try:\r\n",
    "        cat_dict[non_extracted_ISBNs[i]]=get_category(base_url='https://www.googleapis.com/books/v1/volumes?q=',query_param=non_extracted_ISBNs[i],fields='&fields=items(volumeInfo(categories))')\r\n",
    "    except:\r\n",
    "        time.sleep(3)\r\n",
    "        try:\r\n",
    "            cat_dict[non_extracted_ISBNs[i]]=get_category(base_url='https://www.googleapis.com/books/v1/volumes?q=',query_param=non_extracted_ISBNs[i],fields='&fields=items(volumeInfo(categories))')\r\n",
    "        except:\r\n",
    "            continue"
   ],
   "outputs": [
    {
     "output_type": "stream",
     "name": "stdout",
     "text": [
      "0\n",
      "200\n",
      "1\n",
      "200\n",
      "2\n",
      "200\n",
      "3\n",
      "200\n",
      "4\n",
      "200\n"
     ]
    }
   ],
   "metadata": {}
  },
  {
   "cell_type": "code",
   "execution_count": 12,
   "source": [
    "cat_dict\r\n"
   ],
   "outputs": [
    {
     "output_type": "execute_result",
     "data": {
      "text/plain": [
       "{'1565122410': ['Reference'],\n",
       " '044652039X': ['Fiction'],\n",
       " '089608194X': ['Fiction'],\n",
       " '1575669048': ['Fiction'],\n",
       " '1410402002': ['Government publications']}"
      ]
     },
     "metadata": {},
     "execution_count": 12
    }
   ],
   "metadata": {}
  }
 ],
 "metadata": {
  "orig_nbformat": 4,
  "language_info": {
   "name": "python",
   "version": "3.9.2",
   "mimetype": "text/x-python",
   "codemirror_mode": {
    "name": "ipython",
    "version": 3
   },
   "pygments_lexer": "ipython3",
   "nbconvert_exporter": "python",
   "file_extension": ".py"
  },
  "kernelspec": {
   "name": "python3",
   "display_name": "Python 3.9.2 64-bit"
  },
  "interpreter": {
   "hash": "b214ac332dc39ea7ae4ac2bb55860be10914c29acaa2d240798368dc7a6f5bec"
  }
 },
 "nbformat": 4,
 "nbformat_minor": 2
}
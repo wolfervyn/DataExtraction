{
 "cells": [
  {
   "cell_type": "code",
   "execution_count": 1,
   "source": [
    "import pandas as pd\r\n",
    "import numpy as np\r\n",
    "import json\r\n",
    "import time\r\n",
    "import requests"
   ],
   "outputs": [],
   "metadata": {}
  },
  {
   "cell_type": "code",
   "execution_count": 27,
   "source": [
    "def get_category(query_param,base_url='https://www.googleapis.com/books/v1/volumes?q=',fields='&fields=items(volumeInfo(categories))'):\r\n",
    "    cat=[]\r\n",
    "    req=requests.get(base_url+query_param+fields)\r\n",
    "    print(req.status_code)\r\n",
    "    if req.status_code==200:\r\n",
    "        result=json.loads(req.text)\r\n",
    "        try:\r\n",
    "            cat=result['items'][0]['volumeInfo']['categories']\r\n",
    "        except KeyError:\r\n",
    "            return cat\r\n",
    "    elif req.status_code==503:\r\n",
    "        time.sleep(3)\r\n",
    "    return cat"
   ],
   "outputs": [],
   "metadata": {}
  },
  {
   "cell_type": "code",
   "execution_count": 2,
   "source": [
    "common_data=pd.read_csv('books_common_data.csv')\r\n",
    "unique_isbns=list(set(common_data.ISBN))\r\n"
   ],
   "outputs": [],
   "metadata": {}
  },
  {
   "cell_type": "markdown",
   "source": [
    "There are around 24684 books"
   ],
   "metadata": {}
  },
  {
   "cell_type": "code",
   "execution_count": null,
   "source": [
    "cat_dict={}\r\n",
    "for i in range(len(unique_isbns)):\r\n",
    "    print(i)\r\n",
    "    try:\r\n",
    "        cat_dict[unique_isbns[i]]=get_category(base_url='https://www.googleapis.com/books/v1/volumes?q=',query_param=unique_isbns[i],fields='&fields=items(volumeInfo(categories))')\r\n",
    "    except:\r\n",
    "        time.sleep(3)\r\n",
    "        try:\r\n",
    "            cat_dict[unique_isbns[i]]=get_category(base_url='https://www.googleapis.com/books/v1/volumes?q=',query_param=unique_isbns[i],fields='&fields=items(volumeInfo(categories))')\r\n",
    "        except:\r\n",
    "            continue"
   ],
   "outputs": [],
   "metadata": {}
  }
 ],
 "metadata": {
  "orig_nbformat": 4,
  "language_info": {
   "name": "python",
   "version": "3.8.3",
   "mimetype": "text/x-python",
   "codemirror_mode": {
    "name": "ipython",
    "version": 3
   },
   "pygments_lexer": "ipython3",
   "nbconvert_exporter": "python",
   "file_extension": ".py"
  },
  "kernelspec": {
   "name": "python3",
   "display_name": "Python 3.8.3 64-bit ('base': conda)"
  },
  "interpreter": {
   "hash": "1b89aa55be347d0b8cc51b3a166e8002614a385bd8cff32165269c80e70c12a7"
  }
 },
 "nbformat": 4,
 "nbformat_minor": 2
}
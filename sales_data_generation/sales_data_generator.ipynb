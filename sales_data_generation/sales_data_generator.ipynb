{
 "cells": [
  {
   "cell_type": "code",
   "execution_count": 8,
   "source": [
    "import pandas as pd\r\n",
    "import numpy as np\r\n",
    "from faker import Faker\r\n",
    "import time\r\n",
    "import random"
   ],
   "outputs": [],
   "metadata": {}
  },
  {
   "cell_type": "code",
   "execution_count": 5,
   "source": [
    "faker=Faker()"
   ],
   "outputs": [],
   "metadata": {}
  },
  {
   "cell_type": "code",
   "execution_count": 14,
   "source": [
    "faker.date_time_between(start_date='-180d')"
   ],
   "outputs": [
    {
     "output_type": "execute_result",
     "data": {
      "text/plain": [
       "datetime.datetime(2021, 6, 17, 8, 15, 53)"
      ]
     },
     "metadata": {},
     "execution_count": 14
    }
   ],
   "metadata": {}
  },
  {
   "cell_type": "code",
   "execution_count": 17,
   "source": [],
   "outputs": [
    {
     "output_type": "execute_result",
     "data": {
      "text/plain": [
       "datetime.datetime(2021, 8, 24, 5, 14, 22)"
      ]
     },
     "metadata": {},
     "execution_count": 17
    }
   ],
   "metadata": {}
  },
  {
   "cell_type": "code",
   "execution_count": 20,
   "source": [
    "user_ratings=pd.read_csv('ratings_clean.csv')"
   ],
   "outputs": [],
   "metadata": {}
  },
  {
   "cell_type": "code",
   "execution_count": 43,
   "source": [
    "\r\n",
    "random.seed(1)\r\n",
    "user_ratings['datetime_of_purchase']=[faker.date_time_between(start_date='-180d') for i in range(user_ratings.shape[0])]\r\n"
   ],
   "outputs": [],
   "metadata": {}
  },
  {
   "cell_type": "code",
   "execution_count": 44,
   "source": [
    "user_ratings"
   ],
   "outputs": [
    {
     "output_type": "execute_result",
     "data": {
      "text/html": [
       "<div>\n",
       "<style scoped>\n",
       "    .dataframe tbody tr th:only-of-type {\n",
       "        vertical-align: middle;\n",
       "    }\n",
       "\n",
       "    .dataframe tbody tr th {\n",
       "        vertical-align: top;\n",
       "    }\n",
       "\n",
       "    .dataframe thead th {\n",
       "        text-align: right;\n",
       "    }\n",
       "</style>\n",
       "<table border=\"1\" class=\"dataframe\">\n",
       "  <thead>\n",
       "    <tr style=\"text-align: right;\">\n",
       "      <th></th>\n",
       "      <th>User-ID</th>\n",
       "      <th>ISBN</th>\n",
       "      <th>Book-Rating</th>\n",
       "      <th>Book-Rating_5</th>\n",
       "      <th>date_of_purchase</th>\n",
       "      <th>datetime_of_purchase</th>\n",
       "    </tr>\n",
       "  </thead>\n",
       "  <tbody>\n",
       "    <tr>\n",
       "      <th>0</th>\n",
       "      <td>276725</td>\n",
       "      <td>034545104X</td>\n",
       "      <td>0</td>\n",
       "      <td>0.0</td>\n",
       "      <td>2021-06-25</td>\n",
       "      <td>2021-06-02 00:58:00</td>\n",
       "    </tr>\n",
       "    <tr>\n",
       "      <th>1</th>\n",
       "      <td>276733</td>\n",
       "      <td>2080674722</td>\n",
       "      <td>0</td>\n",
       "      <td>0.0</td>\n",
       "      <td>2021-06-22</td>\n",
       "      <td>2021-07-22 19:03:32</td>\n",
       "    </tr>\n",
       "    <tr>\n",
       "      <th>2</th>\n",
       "      <td>276746</td>\n",
       "      <td>055356451X</td>\n",
       "      <td>0</td>\n",
       "      <td>0.0</td>\n",
       "      <td>2021-04-17</td>\n",
       "      <td>2021-07-20 04:41:21</td>\n",
       "    </tr>\n",
       "    <tr>\n",
       "      <th>3</th>\n",
       "      <td>276747</td>\n",
       "      <td>1885408226</td>\n",
       "      <td>7</td>\n",
       "      <td>3.5</td>\n",
       "      <td>2021-05-01</td>\n",
       "      <td>2021-04-27 14:11:17</td>\n",
       "    </tr>\n",
       "    <tr>\n",
       "      <th>4</th>\n",
       "      <td>276762</td>\n",
       "      <td>034544003X</td>\n",
       "      <td>0</td>\n",
       "      <td>0.0</td>\n",
       "      <td>2021-05-24</td>\n",
       "      <td>2021-08-26 03:01:39</td>\n",
       "    </tr>\n",
       "    <tr>\n",
       "      <th>...</th>\n",
       "      <td>...</td>\n",
       "      <td>...</td>\n",
       "      <td>...</td>\n",
       "      <td>...</td>\n",
       "      <td>...</td>\n",
       "      <td>...</td>\n",
       "    </tr>\n",
       "    <tr>\n",
       "      <th>90019</th>\n",
       "      <td>276688</td>\n",
       "      <td>068484267X</td>\n",
       "      <td>0</td>\n",
       "      <td>0.0</td>\n",
       "      <td>2021-06-13</td>\n",
       "      <td>2021-09-11 00:04:59</td>\n",
       "    </tr>\n",
       "    <tr>\n",
       "      <th>90020</th>\n",
       "      <td>276688</td>\n",
       "      <td>068810553X</td>\n",
       "      <td>0</td>\n",
       "      <td>0.0</td>\n",
       "      <td>2021-04-22</td>\n",
       "      <td>2021-05-01 11:54:11</td>\n",
       "    </tr>\n",
       "    <tr>\n",
       "      <th>90021</th>\n",
       "      <td>276688</td>\n",
       "      <td>1551669315</td>\n",
       "      <td>6</td>\n",
       "      <td>3.0</td>\n",
       "      <td>2021-08-29</td>\n",
       "      <td>2021-09-12 14:29:24</td>\n",
       "    </tr>\n",
       "    <tr>\n",
       "      <th>90022</th>\n",
       "      <td>276688</td>\n",
       "      <td>1575660792</td>\n",
       "      <td>7</td>\n",
       "      <td>3.5</td>\n",
       "      <td>2021-07-14</td>\n",
       "      <td>2021-07-25 18:12:40</td>\n",
       "    </tr>\n",
       "    <tr>\n",
       "      <th>90023</th>\n",
       "      <td>276704</td>\n",
       "      <td>1563526298</td>\n",
       "      <td>9</td>\n",
       "      <td>4.5</td>\n",
       "      <td>2021-09-03</td>\n",
       "      <td>2021-09-28 09:35:34</td>\n",
       "    </tr>\n",
       "  </tbody>\n",
       "</table>\n",
       "<p>90024 rows × 6 columns</p>\n",
       "</div>"
      ],
      "text/plain": [
       "       User-ID        ISBN  Book-Rating  Book-Rating_5 date_of_purchase  \\\n",
       "0       276725  034545104X            0            0.0       2021-06-25   \n",
       "1       276733  2080674722            0            0.0       2021-06-22   \n",
       "2       276746  055356451X            0            0.0       2021-04-17   \n",
       "3       276747  1885408226            7            3.5       2021-05-01   \n",
       "4       276762  034544003X            0            0.0       2021-05-24   \n",
       "...        ...         ...          ...            ...              ...   \n",
       "90019   276688  068484267X            0            0.0       2021-06-13   \n",
       "90020   276688  068810553X            0            0.0       2021-04-22   \n",
       "90021   276688  1551669315            6            3.0       2021-08-29   \n",
       "90022   276688  1575660792            7            3.5       2021-07-14   \n",
       "90023   276704  1563526298            9            4.5       2021-09-03   \n",
       "\n",
       "      datetime_of_purchase  \n",
       "0      2021-06-02 00:58:00  \n",
       "1      2021-07-22 19:03:32  \n",
       "2      2021-07-20 04:41:21  \n",
       "3      2021-04-27 14:11:17  \n",
       "4      2021-08-26 03:01:39  \n",
       "...                    ...  \n",
       "90019  2021-09-11 00:04:59  \n",
       "90020  2021-05-01 11:54:11  \n",
       "90021  2021-09-12 14:29:24  \n",
       "90022  2021-07-25 18:12:40  \n",
       "90023  2021-09-28 09:35:34  \n",
       "\n",
       "[90024 rows x 6 columns]"
      ]
     },
     "metadata": {},
     "execution_count": 44
    }
   ],
   "metadata": {}
  }
 ],
 "metadata": {
  "orig_nbformat": 4,
  "language_info": {
   "name": "python",
   "version": "3.8.3",
   "mimetype": "text/x-python",
   "codemirror_mode": {
    "name": "ipython",
    "version": 3
   },
   "pygments_lexer": "ipython3",
   "nbconvert_exporter": "python",
   "file_extension": ".py"
  },
  "kernelspec": {
   "name": "python3",
   "display_name": "Python 3.8.3 64-bit ('base': conda)"
  },
  "interpreter": {
   "hash": "1b89aa55be347d0b8cc51b3a166e8002614a385bd8cff32165269c80e70c12a7"
  }
 },
 "nbformat": 4,
 "nbformat_minor": 2
}